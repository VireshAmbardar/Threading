{
 "cells": [
  {
   "cell_type": "code",
   "execution_count": 11,
   "id": "670a7e5e-9c60-418e-8c8e-a8366682c7cc",
   "metadata": {},
   "outputs": [],
   "source": [
    "from threading import *\n",
    "from time import *\n",
    "# !pip install threading"
   ]
  },
  {
   "cell_type": "code",
   "execution_count": 19,
   "id": "b618f5ec-ebb2-4fde-b5cd-224a4da37db1",
   "metadata": {},
   "outputs": [],
   "source": [
    "\n",
    "class hello(Thread):\n",
    "    def run(self):\n",
    "        for i in range(5):\n",
    "            print(\"hello\")\n",
    "            sleep(1)\n",
    "            \n",
    "\n",
    "class hi(Thread):\n",
    "    def run(self):\n",
    "        for i in range(5):\n",
    "            print(\"hi\")\n",
    "            sleep(1)\n",
    "        "
   ]
  },
  {
   "cell_type": "code",
   "execution_count": 20,
   "id": "e841c307-8b7d-4a0d-b69f-85d5838f65da",
   "metadata": {},
   "outputs": [
    {
     "name": "stdout",
     "output_type": "stream",
     "text": [
      "hello\n",
      "hello\n",
      "hello\n",
      "hello\n",
      "hello\n",
      "hi\n",
      "hi\n",
      "hi\n",
      "hi\n",
      "hi\n"
     ]
    }
   ],
   "source": [
    "## making objects of classes \n",
    "\n",
    "t1 = hello()\n",
    "t2 = hi()\n",
    "\n",
    "## running  objects (this is haping in main core)\n",
    "t1.run()\n",
    "t2.run()"
   ]
  },
  {
   "cell_type": "code",
   "execution_count": 26,
   "id": "a02d4384-dc18-4e53-97b0-253acc5ab0ba",
   "metadata": {},
   "outputs": [
    {
     "name": "stdout",
     "output_type": "stream",
     "text": [
      "hello\n",
      "hi\n",
      "hello\n",
      "hi\n",
      "hello\n",
      "hi\n",
      "hello\n",
      "hi\n",
      "hello\n",
      "hi\n",
      "bye\n"
     ]
    }
   ],
   "source": [
    "## making multi code  for 2 ovjects hello and hi\n",
    "\n",
    "o1 = hello()\n",
    "o2 =hi()\n",
    "\n",
    "## wa dont want to run but actually make threads so for that we use Start instead of run\n",
    "# we are using run inside classes bcz it already havea subclass of run, if we use any other name it wont run\n",
    "\n",
    "## thread 1\n",
    "o1.start()\n",
    "sleep(0.2)\n",
    "\n",
    "## thread 2\n",
    "o2.start()\n",
    "\n",
    "## if u want to wait for t1 and t2 to complete their process and then activate the main thread then \n",
    "o1.join()\n",
    "o2.join()\n",
    "\n",
    "print(\"bye\")\n",
    "\n",
    "## see the result both process is runinng simutaneously"
   ]
  },
  {
   "cell_type": "code",
   "execution_count": null,
   "id": "ef91a4f5-ff8e-445a-aa89-80eae0674111",
   "metadata": {},
   "outputs": [],
   "source": []
  },
  {
   "cell_type": "code",
   "execution_count": null,
   "id": "6cf9aa5d-a6d9-40aa-b378-a7e7ca7e193e",
   "metadata": {},
   "outputs": [],
   "source": []
  }
 ],
 "metadata": {
  "kernelspec": {
   "display_name": "Python 3 (ipykernel)",
   "language": "python",
   "name": "python3"
  },
  "language_info": {
   "codemirror_mode": {
    "name": "ipython",
    "version": 3
   },
   "file_extension": ".py",
   "mimetype": "text/x-python",
   "name": "python",
   "nbconvert_exporter": "python",
   "pygments_lexer": "ipython3",
   "version": "3.9.16"
  }
 },
 "nbformat": 4,
 "nbformat_minor": 5
}
